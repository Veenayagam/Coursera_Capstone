{
    "cells": [
        {
            "metadata": {
                "collapsed": true
            },
            "cell_type": "markdown",
            "source": "# Peer-graded Assignment: Capstone Project - The Battle of Neighbourhoods (Week 2): Opening a restaurant in Toronto"
        },
        {
            "metadata": {},
            "cell_type": "markdown",
            "source": "# 1.0 Introduction:"
        },
        {
            "metadata": {},
            "cell_type": "markdown",
            "source": "## 1.1 Background"
        },
        {
            "metadata": {},
            "cell_type": "markdown",
            "source": "My cousin is planing to open a new restaurant store in Toronto. He has found out that I am studying data science and has asked for help to determine which neighborhood in Toronto is the best location to open in."
        },
        {
            "metadata": {},
            "cell_type": "markdown",
            "source": "## 1.2 Problem"
        },
        {
            "metadata": {},
            "cell_type": "markdown",
            "source": "Which neighborhood should my cousin open his new restaurant in Toronto?"
        },
        {
            "metadata": {},
            "cell_type": "markdown",
            "source": "Data that might contribute to determining which place is most suitable in store opening which includes population in the area and others. This project aims to predict the most suitable location based on these data. The store needs to be strategically located inside the biggest concentration of restaurants in Toronto area. The data also need determine neighborhood average salary close to the Canadian National Average."
        },
        {
            "metadata": {},
            "cell_type": "markdown",
            "source": "With the help of data, I'm sure my cousion will receive below benefits:\n- lowest cost for delivery\n- shortest travel time to his store for his clients\n- overall lower run costs\n- increase in overall business\n- overall greater customer satisfaction"
        },
        {
            "metadata": {},
            "cell_type": "markdown",
            "source": "# 2.0  Data"
        },
        {
            "metadata": {},
            "cell_type": "markdown",
            "source": "### 2.1 Toronto neighborhoods "
        },
        {
            "metadata": {},
            "cell_type": "markdown",
            "source": "https://en.wikipedia.org/wiki/List_of_postal_codes_of_Canada:_M"
        },
        {
            "metadata": {},
            "cell_type": "markdown",
            "source": "### 2.2 Toronto geospatial coordinates"
        },
        {
            "metadata": {},
            "cell_type": "markdown",
            "source": "http://cocl.us/Geospatial_data"
        },
        {
            "metadata": {},
            "cell_type": "markdown",
            "source": "### 2.3 Toronto neighborhoods populations broken down by postal code"
        },
        {
            "metadata": {},
            "cell_type": "markdown",
            "source": "https://www12.statcan.gc.ca/census-recensement/2016/dp-pd/hlt-fst/pd-pl/Tables/File.cfm?T=1201&SR=1&RPP=9999&PR=0&CMA=0&CSD=0&S=22&O=A&Lang=Eng&OFT=CSV"
        },
        {
            "metadata": {},
            "cell_type": "markdown",
            "source": "### 2.4 Toronto neighborhoods average after tax income broken down by postal code"
        },
        {
            "metadata": {},
            "cell_type": "markdown",
            "source": "https://www12.statcan.gc.ca/census-recensement/2016/dp-pd/prof/search-recherche/change-geo.cfm?Lang=E&Geo1=FSA"
        },
        {
            "metadata": {},
            "cell_type": "markdown",
            "source": "### 2.5 Canadian National Average After Tax Income"
        },
        {
            "metadata": {},
            "cell_type": "markdown",
            "source": "https://www150.statcan.gc.ca/n1/daily-quotidien/180313/dq180313a-eng.htm"
        },
        {
            "metadata": {},
            "cell_type": "markdown",
            "source": "Canadian families and unattached individuals had a median after-tax income of $57,000 in 2016"
        },
        {
            "metadata": {},
            "cell_type": "markdown",
            "source": "### 2.6 Toronto list of Restaurants "
        },
        {
            "metadata": {},
            "cell_type": "markdown",
            "source": "4SQUARE API : https://api.foursquare.com"
        },
        {
            "metadata": {},
            "cell_type": "markdown",
            "source": "Using above links, I will get all the Venues in Toronto. I will use OneHot encode and count restaurants. I will merge the Data Set to cluster and geo spatial map of the results showing the best neighborhood for set up restaurant."
        },
        {
            "metadata": {},
            "cell_type": "markdown",
            "source": "# 3.0 Methodology"
        },
        {
            "metadata": {},
            "cell_type": "markdown",
            "source": "I have choosed K-Means clustering for clustering the data set. K-means clustering is a method of vector quantization, originally from signal processing, that aims to partition n observations into k clusters in which each observation belongs to the cluster with the nearest mean (cluster centers or cluster centroid), serving as a prototype of the cluster."
        },
        {
            "metadata": {},
            "cell_type": "markdown",
            "source": "To get best number of clusters, I have input Silhouette analysis.Silhouette refers to a method of interpretation and validation of consistency within clusters of data. The technique provides a succinct graphical representation of how well each object has been classified. The silhouette value is a measure of how similar an object is to its own cluster compared to other clusters. "
        },
        {
            "metadata": {},
            "cell_type": "markdown",
            "source": "I have added K-means cluster to get the largest cluster in this case it was cluster number 2."
        },
        {
            "metadata": {},
            "cell_type": "markdown",
            "source": "I have merged the Toronto data with geo coordinated for more accuracy and matched cluster data."
        },
        {
            "metadata": {},
            "cell_type": "markdown",
            "source": "Installed opencage to reverse lookup the coordinates by creating account and import it."
        },
        {
            "metadata": {},
            "cell_type": "markdown",
            "source": "# 4.0 Results\n"
        },
        {
            "metadata": {},
            "cell_type": "markdown",
            "source": "## 4.1 The location image"
        },
        {
            "metadata": {},
            "cell_type": "markdown",
            "source": "Below is the location of the Toronto area"
        },
        {
            "metadata": {},
            "cell_type": "markdown",
            "source": "[Click this url to view the location image](https://ibb.co/rZxKvyR)"
        },
        {
            "metadata": {},
            "cell_type": "markdown",
            "source": "## Location address"
        },
        {
            "metadata": {},
            "cell_type": "markdown",
            "source": "The address to locate would be: 268 Balliol Street, ON M4S 1C2, Canada or lat: 43.6991598, lng: -79.3878871"
        },
        {
            "metadata": {},
            "cell_type": "markdown",
            "source": "# 5.0 Discussion"
        },
        {
            "metadata": {},
            "cell_type": "markdown",
            "source": "When we built our our K-Means dataset we used Silhouette analysis to tell us there was a lot of similarity between neighborhoods and the most common restaurants contained with in. Really there was only 2 types of cluster or neighborhoods in greater Toronto. The vast majority of those were in 1 cluster. So Toronto restaurants might be many but they are very homogeneously located near the center of Toronto."
        },
        {
            "metadata": {},
            "cell_type": "markdown",
            "source": "When clustering and building using K-Means dataset, I used Silhouette analysis to find out similarity between neighborhoods and the most common restaurants around the place. There was only 2 types of cluster in greater Totonto while most of those were in cluster 1. By that, they were likely located near center of Toronto. There were 103 Toronto Neighborhoods gathered only 55.3% or 57 Neighborhoods are above the median after-tax income. 37.8% or 39 Neighborhoods are below he median after-tax income. 6.7% or 7 neighborhoods did not register as it appears their populations are too low. It appears that the greatest concentration of affluence is near central Toronto. We decided to keep all neighborhoods in the dataset regardless of income of population as the majority were close enough."
        },
        {
            "metadata": {},
            "cell_type": "markdown",
            "source": "# 6.0 Conclusion"
        },
        {
            "metadata": {},
            "cell_type": "markdown",
            "source": "I feel confident with the recommendation I have given my friend as it is backed up with demonstrated data analysis. While nothing can ever be 100% certain he will certainly be better informed than he was prior to asking for my help.\n\nMuch more inference can be obtained with more work. A potential side business for my friend might be assisting new restaurant owners where they might locate a new restaurant, who their competition is and who their clientele might be."
        },
        {
            "metadata": {},
            "cell_type": "markdown",
            "source": "In conclusion, I would like to recommend my cousin the location based on the data anaysis with the results. I'm also will explain to him that it not would be 100% certainty but this was the result from the best anaysis from clustering dataset."
        },
        {
            "metadata": {},
            "cell_type": "code",
            "source": "",
            "execution_count": null,
            "outputs": []
        }
    ],
    "metadata": {
        "kernelspec": {
            "name": "python3",
            "display_name": "Python 3.7",
            "language": "python"
        },
        "language_info": {
            "name": "python",
            "version": "3.7.10",
            "mimetype": "text/x-python",
            "codemirror_mode": {
                "name": "ipython",
                "version": 3
            },
            "pygments_lexer": "ipython3",
            "nbconvert_exporter": "python",
            "file_extension": ".py"
        }
    },
    "nbformat": 4,
    "nbformat_minor": 1
}