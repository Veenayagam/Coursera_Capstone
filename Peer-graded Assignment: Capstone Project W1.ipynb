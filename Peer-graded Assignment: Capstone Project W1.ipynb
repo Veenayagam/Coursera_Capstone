{
    "cells": [
        {
            "metadata": {
                "collapsed": true
            },
            "cell_type": "markdown",
            "source": "# Peer-graded Assignment: Capstone Project - The Battle of Neighbourhoods (Week 1): Opening a restaurant in Toronto"
        },
        {
            "metadata": {},
            "cell_type": "markdown",
            "source": "## Introduction:"
        },
        {
            "metadata": {},
            "cell_type": "markdown",
            "source": "## 1.1 Background"
        },
        {
            "metadata": {},
            "cell_type": "markdown",
            "source": "My cousin is planing to open a new restaurant store in Toronto. He has found out that I am studying data science and has asked for help to determine which neighborhood in Toronto is the best location to open in."
        },
        {
            "metadata": {},
            "cell_type": "markdown",
            "source": "## 1.2 Problem"
        },
        {
            "metadata": {},
            "cell_type": "markdown",
            "source": "Which neighborhood should my cousin open his new restaurant in Toronto?"
        },
        {
            "metadata": {},
            "cell_type": "markdown",
            "source": "Data that might contribute to determining which place is most suitable in store opening which includes population in the area and others. This project aims to predict the most suitable location based on these data. The store needs to be strategically located inside the biggest concentration of restaurants in Toronto area. The data also need determine neighborhood average salary close to the Canadian National Average."
        },
        {
            "metadata": {},
            "cell_type": "markdown",
            "source": "With the help of data, I'm sure my cousion will receive below benefits:\n- lowest cost for delivery\n- shortest travel time to his store for his clients\n- overall lower run costs\n- increase in overall business\n- overall greater customer satisfaction"
        },
        {
            "metadata": {},
            "cell_type": "markdown",
            "source": "# 2. Data"
        },
        {
            "metadata": {},
            "cell_type": "code",
            "source": "",
            "execution_count": null,
            "outputs": []
        }
    ],
    "metadata": {
        "kernelspec": {
            "name": "python3",
            "display_name": "Python 3.7",
            "language": "python"
        },
        "language_info": {
            "name": "python",
            "version": "3.7.10",
            "mimetype": "text/x-python",
            "codemirror_mode": {
                "name": "ipython",
                "version": 3
            },
            "pygments_lexer": "ipython3",
            "nbconvert_exporter": "python",
            "file_extension": ".py"
        }
    },
    "nbformat": 4,
    "nbformat_minor": 1
}