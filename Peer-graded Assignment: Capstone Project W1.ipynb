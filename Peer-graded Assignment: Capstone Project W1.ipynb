{
    "cells": [
        {
            "metadata": {
                "collapsed": true
            },
            "cell_type": "markdown",
            "source": "# Peer-graded Assignment: Capstone Project - The Battle of Neighbourhoods (Week 1): Opening a restaurant in Toronto"
        },
        {
            "metadata": {},
            "cell_type": "markdown",
            "source": "## Introduction:"
        },
        {
            "metadata": {},
            "cell_type": "markdown",
            "source": "## 1.1 Background"
        },
        {
            "metadata": {},
            "cell_type": "markdown",
            "source": "My cousin is planing to open a new restaurant store in Toronto. He has found out that I am studying data science and has asked for help to determine which neighborhood in Toronto is the best location to open in."
        },
        {
            "metadata": {},
            "cell_type": "markdown",
            "source": "## 1.2 Problem"
        },
        {
            "metadata": {},
            "cell_type": "markdown",
            "source": "Which neighborhood should my cousin open his new restaurant in Toronto?"
        },
        {
            "metadata": {},
            "cell_type": "markdown",
            "source": "Data that might contribute to determining which place is most suitable in store opening which includes population in the area and others. This project aims to predict the most suitable location based on these data. The store needs to be strategically located inside the biggest concentration of restaurants in Toronto area. The data also need determine neighborhood average salary close to the Canadian National Average."
        },
        {
            "metadata": {},
            "cell_type": "markdown",
            "source": "With the help of data, I'm sure my cousion will receive below benefits:\n- lowest cost for delivery\n- shortest travel time to his store for his clients\n- overall lower run costs\n- increase in overall business\n- overall greater customer satisfaction"
        },
        {
            "metadata": {},
            "cell_type": "markdown",
            "source": "# 2. Data"
        },
        {
            "metadata": {},
            "cell_type": "markdown",
            "source": "### 2.1 Toronto neighborhoods "
        },
        {
            "metadata": {},
            "cell_type": "markdown",
            "source": "https://en.wikipedia.org/wiki/List_of_postal_codes_of_Canada:_M"
        },
        {
            "metadata": {},
            "cell_type": "markdown",
            "source": "### 2.2 Toronto geospatial coordinates"
        },
        {
            "metadata": {},
            "cell_type": "markdown",
            "source": "http://cocl.us/Geospatial_data"
        },
        {
            "metadata": {},
            "cell_type": "markdown",
            "source": "### 2.3 Toronto neighborhoods populations broken down by postal code"
        },
        {
            "metadata": {},
            "cell_type": "markdown",
            "source": "https://www12.statcan.gc.ca/census-recensement/2016/dp-pd/hlt-fst/pd-pl/Tables/File.cfm?T=1201&SR=1&RPP=9999&PR=0&CMA=0&CSD=0&S=22&O=A&Lang=Eng&OFT=CSV"
        },
        {
            "metadata": {},
            "cell_type": "markdown",
            "source": "### 2.4 Toronto neighborhoods average after tax income broken down by postal code"
        },
        {
            "metadata": {},
            "cell_type": "markdown",
            "source": "https://www12.statcan.gc.ca/census-recensement/2016/dp-pd/prof/search-recherche/change-geo.cfm?Lang=E&Geo1=FSA"
        },
        {
            "metadata": {},
            "cell_type": "markdown",
            "source": "### 2.5 Canadian National Average After Tax Income"
        },
        {
            "metadata": {},
            "cell_type": "markdown",
            "source": "https://www150.statcan.gc.ca/n1/daily-quotidien/180313/dq180313a-eng.htm"
        },
        {
            "metadata": {},
            "cell_type": "markdown",
            "source": "Canadian families and unattached individuals had a median after-tax income of $57,000 in 2016"
        },
        {
            "metadata": {},
            "cell_type": "markdown",
            "source": "### 2.6 Toronto list of Restaurants "
        },
        {
            "metadata": {},
            "cell_type": "markdown",
            "source": "4SQUARE API : https://api.foursquare.com"
        },
        {
            "metadata": {},
            "cell_type": "markdown",
            "source": "Using above links, I will get all the Venues in Toronto. I will use OneHot encode and count restaurants. I will merge the Data Set to cluster and geo spatial map of the results showing the best neighborhood for set up restaurant."
        },
        {
            "metadata": {},
            "cell_type": "code",
            "source": "",
            "execution_count": null,
            "outputs": []
        }
    ],
    "metadata": {
        "kernelspec": {
            "name": "python3",
            "display_name": "Python 3.7",
            "language": "python"
        },
        "language_info": {
            "name": "python",
            "version": "3.7.10",
            "mimetype": "text/x-python",
            "codemirror_mode": {
                "name": "ipython",
                "version": 3
            },
            "pygments_lexer": "ipython3",
            "nbconvert_exporter": "python",
            "file_extension": ".py"
        }
    },
    "nbformat": 4,
    "nbformat_minor": 1
}